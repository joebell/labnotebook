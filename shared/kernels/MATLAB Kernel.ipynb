{
 "cells": [
  {
   "cell_type": "markdown",
   "id": "18dd9d3a-f84b-4560-a795-cf32e772093e",
   "metadata": {},
   "source": [
    "# MATLAB Kernel\n",
    "\n",
    "This kernel is based on the official MATLAB docker image for R2023a, and the excellent [matlab_kernel](https://github.com/Calysto/matlab_kernel) package by [Calysto](https://github.com/Calysto). Note that MATLAB has recently published their own official Jupyter integration [jupyter-matlab-proxy](https://github.com/mathworks/jupyter-matlab-proxy), but the way their proxy works makes it difficult to use with a Dockerized JupyterHub setup. The other advantage of a Dockerized setup is that each notebook runs in an independent MATLAB kernel.\n",
    "\n",
    "The key to getting the MATLAB kernel to work is ensuring each MATLAB has an appropriate license. Note that LNU licensing will not work with `matlabengine`; you actually need to specify a license file. This can be done with an environment variable in Docker.\n",
    "\n",
    "## Dockerfile"
   ]
  },
  {
   "cell_type": "code",
   "execution_count": null,
   "id": "e369b1ea-b5ed-4fa7-987b-922808115aa2",
   "metadata": {
    "tags": []
   },
   "outputs": [],
   "source": [
    "%%file matlab.dockerfile\n",
    "\n",
    "# Use the mathworks/matlab base image, matlabengine not yet compatible with R2023b\n",
    "FROM mathworks/matlab-deep-learning:r2023a\n",
    "\n",
    "# Add software and paths as root\n",
    "USER root\n",
    "WORKDIR /\n",
    "\n",
    "# Need this env variable for matlabengine\n",
    "ENV LD_LIBRARY_PATH=/opt/matlab/R2023a/bin/glnxa64:$LD_LIBRARY_PATH\n",
    "\n",
    "# Add matlabengine and matlab_kernel\n",
    "RUN pip install matlabengine==9.14.3\n",
    "RUN pip install matlab_kernel==0.17.1\n",
    "\n",
    "# Copy over the passwd and group databases to allow sane permissions\n",
    "COPY /etc/passwd /etc/passwd\n",
    "COPY /etc/group /etc/group\n",
    "\n",
    "# Start the matlab_kernel, prevent the container's entrypoint script from running\n",
    "ENTRYPOINT []\n",
    "CMD python -m matlab_kernel -f $DOCKERNEL_CONNECTION_FILE"
   ]
  },
  {
   "cell_type": "markdown",
   "id": "56f341be-ed3b-4a7d-8413-796758d2eccb",
   "metadata": {},
   "source": [
    "## Build the dockerfile"
   ]
  },
  {
   "cell_type": "code",
   "execution_count": null,
   "id": "61537eee-da34-49dc-a398-2a8cd882a03b",
   "metadata": {
    "tags": []
   },
   "outputs": [],
   "source": [
    "!docker build -t matlab:latest -f ./matlab.dockerfile /"
   ]
  },
  {
   "cell_type": "markdown",
   "id": "09b1c833-6855-45f6-b246-7a8f12b7e6d5",
   "metadata": {
    "tags": []
   },
   "source": [
    "## Install the dockerfile with dockernel"
   ]
  },
  {
   "cell_type": "code",
   "execution_count": null,
   "id": "86556e8d-1e12-4ea5-a430-ceaddee8ca6a",
   "metadata": {
    "tags": []
   },
   "outputs": [],
   "source": [
    "!dockernel install matlab:latest \\\n",
    "    --name MATLAB-R2023a \\\n",
    "    -v labnotebook-homedirs:/home:rw \\\n",
    "    --gpus all \\\n",
    "    --network host \\\n",
    "    -e MLM_LICENSE_FILE=~/.matlab/matlab_license.lic \\\n",
    "    --user -1 \\\n",
    "    --group-add -1 \\\n",
    "    --language MATLAB"
   ]
  },
  {
   "cell_type": "markdown",
   "id": "f5b5891f-ccd5-41ab-81cf-8f0a54b6c7b6",
   "metadata": {},
   "source": [
    "You may need to refresh your browser in order to see kernel as an option in the Launcher."
   ]
  }
 ],
 "metadata": {
  "kernelspec": {
   "display_name": "Python 3 (ipykernel)",
   "language": "python",
   "name": "python3"
  },
  "language_info": {
   "codemirror_mode": {
    "name": "ipython",
    "version": 3
   },
   "file_extension": ".py",
   "mimetype": "text/x-python",
   "name": "python",
   "nbconvert_exporter": "python",
   "pygments_lexer": "ipython3",
   "version": "3.10.13"
  }
 },
 "nbformat": 4,
 "nbformat_minor": 5
}
