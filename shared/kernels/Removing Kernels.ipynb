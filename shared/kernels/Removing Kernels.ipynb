{
 "cells": [
  {
   "cell_type": "markdown",
   "id": "a1dc58ae-6cbd-4ac8-9f6c-2ec32ab838f3",
   "metadata": {
    "tags": []
   },
   "source": [
    "# Removing Kernels\n",
    "\n",
    "This notebook shows how to remove unwanted kernels. First, list the available options."
   ]
  },
  {
   "cell_type": "code",
   "execution_count": null,
   "id": "dbd13ea5-f475-46ed-ae51-567e5855d44f",
   "metadata": {
    "tags": []
   },
   "outputs": [],
   "source": [
    "!jupyter kernelspec list"
   ]
  },
  {
   "cell_type": "markdown",
   "id": "09f6c22f-1963-48dd-b636-049586c62aa7",
   "metadata": {},
   "source": [
    "Next remove the kernels by name:"
   ]
  },
  {
   "cell_type": "code",
   "execution_count": null,
   "id": "50f4460d-eab4-479a-8201-621378f0dfa9",
   "metadata": {
    "tags": []
   },
   "outputs": [],
   "source": [
    "!jupyter kernelspec remove -y c8c3ef3fbf87f5be da1f8527e90b6c96"
   ]
  },
  {
   "cell_type": "markdown",
   "id": "b53a5d0d-3087-47c6-b81f-cea0b8dbfbce",
   "metadata": {
    "tags": []
   },
   "source": [
    "This doesn't remove the underlying docker containers, which still exist. Be careful of removing these because other users might still be using them. You can show all docker containers with:"
   ]
  },
  {
   "cell_type": "code",
   "execution_count": null,
   "id": "9f22d69f-2ad6-4758-a484-fa7a19a3c007",
   "metadata": {
    "tags": []
   },
   "outputs": [],
   "source": [
    "!docker ps -a"
   ]
  }
 ],
 "metadata": {
  "kernelspec": {
   "display_name": "Python 3 (ipykernel)",
   "language": "python",
   "name": "python3"
  },
  "language_info": {
   "codemirror_mode": {
    "name": "ipython",
    "version": 3
   },
   "file_extension": ".py",
   "mimetype": "text/x-python",
   "name": "python",
   "nbconvert_exporter": "python",
   "pygments_lexer": "ipython3",
   "version": "3.10.13"
  }
 },
 "nbformat": 4,
 "nbformat_minor": 5
}
