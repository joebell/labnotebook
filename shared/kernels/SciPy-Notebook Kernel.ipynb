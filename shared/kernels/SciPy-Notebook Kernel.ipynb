{
 "cells": [
  {
   "cell_type": "markdown",
   "id": "c40efdc1-457f-4522-ab17-95594776ede4",
   "metadata": {},
   "source": [
    "# scipy-notebook Kernel\n",
    "\n",
    "This kernel is based on the jupyter/scipy-notebook container. We add ipython support into the image, copy over user and group databases to allow permissions to work when we mount home directories, and then start the kernel.\n",
    "\n",
    "## Dockerfile"
   ]
  },
  {
   "cell_type": "code",
   "execution_count": null,
   "id": "ec7d54bf-7cae-436c-9872-12a9fa61db1e",
   "metadata": {
    "tags": []
   },
   "outputs": [],
   "source": [
    "%%file scipy-notebook.dockerfile\n",
    "\n",
    "# Use a base image\n",
    "FROM jupyter/scipy-notebook:ubuntu-22.04\n",
    "\n",
    "# Install the kernel\n",
    "RUN pip install --upgrade pip ipython ipykernel\n",
    "\n",
    "# Copy over the passwd and group databases to allow for sane permissions\n",
    "COPY /etc/passwd /etc/passwd\n",
    "COPY /etc/group /etc/group\n",
    "\n",
    "# Start the ipython kernel\n",
    "CMD python -m ipykernel_launcher -f $DOCKERNEL_CONNECTION_FILE"
   ]
  },
  {
   "cell_type": "markdown",
   "id": "d9d418cf-e54a-4fdd-abd3-26c0b6710ea0",
   "metadata": {
    "tags": []
   },
   "source": [
    "## Build the image"
   ]
  },
  {
   "cell_type": "code",
   "execution_count": null,
   "id": "161f4c6f-6c8b-4e6c-8db2-c0d2438da17c",
   "metadata": {},
   "outputs": [],
   "source": [
    "!docker build --tag scipy-notebook:latest -f ./scipy-notebook.dockerfile /"
   ]
  },
  {
   "cell_type": "markdown",
   "id": "9b958be6-caa8-4208-9505-b271d371e815",
   "metadata": {},
   "source": [
    "## Install the image\n",
    "\n",
    "We'll use dockernel to install the image. We will mount the host home directories into it, use the GPU, and run in the container as the current user and their groups. This allows permissions to propagate to the container."
   ]
  },
  {
   "cell_type": "code",
   "execution_count": null,
   "id": "38d24c46-62c2-4321-a02e-636386b86c66",
   "metadata": {
    "tags": []
   },
   "outputs": [],
   "source": [
    "!dockernel install scipy-notebook:latest \\\n",
    "    --name \"SciPy Notebook\" \\\n",
    "    -v labnotebook-homedirs:/home:rw \\\n",
    "    --gpus all \\\n",
    "    --network host \\\n",
    "    --user -1 \\\n",
    "    --group-add -1 \\\n",
    "    --language python"
   ]
  },
  {
   "cell_type": "markdown",
   "id": "6c5b7b65-1578-4ebb-a8a9-3542fe1b0376",
   "metadata": {},
   "source": [
    "You may need to refresh your browser in order to see kernel as an option in the Launcher."
   ]
  },
  {
   "cell_type": "code",
   "execution_count": null,
   "id": "c92980f3-1bf0-4bdf-b14a-dece9ea5cd07",
   "metadata": {},
   "outputs": [],
   "source": []
  }
 ],
 "metadata": {
  "kernelspec": {
   "display_name": "Python 3 (ipykernel)",
   "language": "python",
   "name": "python3"
  },
  "language_info": {
   "codemirror_mode": {
    "name": "ipython",
    "version": 3
   },
   "file_extension": ".py",
   "mimetype": "text/x-python",
   "name": "python",
   "nbconvert_exporter": "python",
   "pygments_lexer": "ipython3",
   "version": "3.10.13"
  }
 },
 "nbformat": 4,
 "nbformat_minor": 5
}
