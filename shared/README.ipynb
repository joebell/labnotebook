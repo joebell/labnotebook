{
 "cells": [
  {
   "cell_type": "markdown",
   "id": "fec741bb-b23c-4477-9919-02eb69f130c1",
   "metadata": {},
   "source": [
    "# README.ipynb\n",
    "\n",
    "Welcome to `labnotebook`. This is a docker-ized JupyterHub deployment that is setup to allow notebook kernels to run in Docker containers.\n",
    "\n",
    "## Questions:\n",
    "\n",
    "### How can I grant `admin` privliges to a different user?\n",
    "\n",
    "Admin privlidges consist of administration on the Hub, and `sudo` root access on the Docker system. Once the user account has been created (they must successfully log in after being Authorized by the `admin` user) then the `admin` user can choose File > Hub Control Panel > Admin > Edit User and then check the `admin` option. This will give that user the ability to authorize or decline new users to use the Hub.\n",
    "\n",
    "Separately, the `admin` user can grant sudo privliges to `anotheruser` in a terminal by running `sudo usermod -aG sudo anotheruser`. In order to get this to work `anotheruser` will need to restart their server from the Hub Control Panel.\n",
    "\n",
    "### How can I generate a PDF of a notebook?\n",
    "\n",
    "See [shared/samples/Exporting to PDF.ipynb](/hub/user-redirect/lab/tree/home/admin/shared/samples/Exporting%20to%20PDF.ipynb) for an example.\n",
    "\n",
    "### Is there a way to user version control?\n",
    "\n",
    "Yes, the excellent [jupyterlab-git](https://github.com/jupyterlab/jupyterlab-git) extension is installed. To connect to a remote repository (eg. GitHub), you'll need to provide SSH keys. These are automatically generated for users at `~/.ssh/id_ed25519.pub`."
   ]
  },
  {
   "cell_type": "code",
   "execution_count": null,
   "id": "116f5fc1-7dd1-40b3-9de4-bef56bbea525",
   "metadata": {},
   "outputs": [],
   "source": []
  }
 ],
 "metadata": {
  "kernelspec": {
   "display_name": "Python 3 (ipykernel)",
   "language": "python",
   "name": "python3"
  },
  "language_info": {
   "codemirror_mode": {
    "name": "ipython",
    "version": 3
   },
   "file_extension": ".py",
   "mimetype": "text/x-python",
   "name": "python",
   "nbconvert_exporter": "python",
   "pygments_lexer": "ipython3",
   "version": "3.10.13"
  }
 },
 "nbformat": 4,
 "nbformat_minor": 5
}
