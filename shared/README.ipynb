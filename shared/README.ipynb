{
 "cells": [
  {
   "cell_type": "markdown",
   "id": "fec741bb-b23c-4477-9919-02eb69f130c1",
   "metadata": {},
   "source": [
    "# README.ipynb\n",
    "\n",
    "Welcome to `labnotebook`. This is a docker-ized JupyterHub deployment that is setup to allow notebook kernels to run in Docker containers.\n",
    "\n",
    "## Questions:\n",
    "\n",
    "### How can I grant `admin` privliges to a different user?\n",
    "\n",
    "Admin privlidges consist of administration on the Hub, and `sudo` root access on the Docker system. Once the user account has been created (they must successfully log in after being Authorized by the `admin` user) then the `admin` user can choose File > Hub Control Panel > Admin > Edit User and then check the `admin` option. This will give that user the ability to authorize or decline new users to use the Hub.\n",
    "\n",
    "Separately, the `admin` user can grant sudo privliges to `anotheruser` in a terminal by running:\n",
    "```\n",
    "sudo usermod -aG sudo anotheruser\n",
    "```\n",
    "In order to get this to work `anotheruser` will need to restart their server from the Hub Control Panel.\n",
    "\n",
    "### How can I generate a PDF of a notebook?\n",
    "\n",
    "Use `jupyter nbconvert`. See [shared/samples/Exporting to PDF.ipynb](/hub/user-redirect/lab/tree/home/admin/shared/samples/Exporting%20to%20PDF.ipynb) for an example.\n",
    "\n",
    "### Is there a way to use version control?\n",
    "\n",
    "Yes, the excellent [jupyterlab-git](https://github.com/jupyterlab/jupyterlab-git) extension is installed. To connect to a remote repository (eg. GitHub), you'll need to provide SSH keys. These are automatically generated for users at `~/.ssh/id_ed25519.pub`.\n",
    "\n",
    "### Can I use another user's kernel container image?\n",
    "\n",
    "Yes! Each user manages which containers are installed as kernels for them, but the images are globally available. To install a kernel all you need is the name of the docker container, and run the `!dockernel install ...` cell of the kernel definition. For example this cell will install the container tagged as `tensorflow-2.13-gpu:latest` to the current user's kernelspec:\n",
    "\n",
    "```\n",
    "!dockernel install tensorflow-2.13-gpu:latest \\\n",
    "    --name TensorFlow-2.13-GPU \\\n",
    "    -v labnotebook-homedirs:/home:rw \\\n",
    "    --gpus all \\\n",
    "    --network host \\\n",
    "    --user -1 \\\n",
    "    --group-add -1 \\\n",
    "    --language python\n",
    "```\n",
    "\n",
    "Remember that since the image names are global, if you're modifying someone else's Dockerfile make sure you `docker build` with a different tag, or their kernel will start using your image.\n",
    "\n",
    "### How should I monitor containers and images?\n",
    "\n",
    "Containers will stop automatically once the corresponding kernel is stopped. You can list images with:"
   ]
  },
  {
   "cell_type": "code",
   "execution_count": null,
   "id": "116f5fc1-7dd1-40b3-9de4-bef56bbea525",
   "metadata": {},
   "outputs": [],
   "source": [
    "!docker images"
   ]
  },
  {
   "cell_type": "markdown",
   "id": "4b21566c-6053-4541-bf77-75680f74fb72",
   "metadata": {},
   "source": [
    "Images can be removed with:\n",
    "\n",
    "```\n",
    "!docker rmi [image-name]\n",
    "```\n",
    "\n",
    "Each user can show their available installed kernels with:"
   ]
  },
  {
   "cell_type": "code",
   "execution_count": 1,
   "id": "d144129f-5d4a-4429-b568-127a149fae0b",
   "metadata": {
    "tags": []
   },
   "outputs": [
    {
     "name": "stdout",
     "output_type": "stream",
     "text": [
      "Available kernels:\n",
      "  tensorflow-2.13-gpu-latest    /home/admin/.local/share/jupyter/kernels/tensorflow-2.13-gpu-latest\n",
      "  python3                       /opt/conda/envs/jupyterenv/share/jupyter/kernels/python3\n"
     ]
    }
   ],
   "source": [
    "!jupyter kernelspec list"
   ]
  },
  {
   "cell_type": "markdown",
   "id": "8f3f4ae2-b34f-43e7-bef0-1493ec121e79",
   "metadata": {},
   "source": [
    "Users can remove a kernel by using:\n",
    "\n",
    "```\n",
    "!jupyter kernelspec remove [kernel-name]\n",
    "```"
   ]
  },
  {
   "cell_type": "code",
   "execution_count": null,
   "id": "5195cf8e-0894-4ab1-a0b0-7b3d53856f2f",
   "metadata": {},
   "outputs": [],
   "source": []
  }
 ],
 "metadata": {
  "kernelspec": {
   "display_name": "Python 3 (ipykernel)",
   "language": "python",
   "name": "python3"
  },
  "language_info": {
   "codemirror_mode": {
    "name": "ipython",
    "version": 3
   },
   "file_extension": ".py",
   "mimetype": "text/x-python",
   "name": "python",
   "nbconvert_exporter": "python",
   "pygments_lexer": "ipython3",
   "version": "3.10.13"
  }
 },
 "nbformat": 4,
 "nbformat_minor": 5
}
