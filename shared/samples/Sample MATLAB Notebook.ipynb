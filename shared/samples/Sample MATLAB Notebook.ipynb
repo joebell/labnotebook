{
 "cells": [
  {
   "cell_type": "markdown",
   "id": "561d4b2d-d2a4-4e9e-bd5c-1b19e722e10b",
   "metadata": {},
   "source": [
    "# Sample MATLAB Notebook\n",
    "\n",
    "This is an example notebook written for the MATLAB-R2023a kernel. If you haven't built it, you'll need to look at the notebook in `./shared/kernels`. Note that unlike behavior produced by the official [jupyter-matlab-proxy](https://github.com/mathworks/jupyter-matlab-proxy) integration, simultaneously executed notebooks work in isolated environments that don't share variables."
   ]
  },
  {
   "cell_type": "code",
   "execution_count": 1,
   "id": "4f3d3862-7c6f-4c7b-886b-ff19797bf045",
   "metadata": {
    "tags": []
   },
   "outputs": [
    {
     "name": "stdout",
     "output_type": "stream",
     "text": [
      "-----------------------------------------------------------------------------------------------------\n",
      "MATLAB Version: 9.14.0.2337262 (R2023a) Update 5\n",
      "MATLAB License Number: 40861119\n",
      "Operating System: Linux 5.15.0-82-generic #91-Ubuntu SMP Mon Aug 14 14:14:14 UTC 2023 x86_64\n",
      "Java Version: Java 1.8.0_202-b08 with Oracle Corporation Java HotSpot(TM) 64-Bit Server VM mixed mode\n",
      "-----------------------------------------------------------------------------------------------------\n",
      "MATLAB                                                Version 9.14        (R2023a)\n",
      "Computer Vision Toolbox                               Version 10.4        (R2023a)\n",
      "Deep Learning Toolbox                                 Version 14.6        (R2023a)\n",
      "GPU Coder                                             Version 2.5         (R2023a)\n",
      "Image Processing Toolbox                              Version 11.7        (R2023a)\n",
      "MATLAB Coder                                          Version 5.6         (R2023a)\n",
      "Parallel Computing Toolbox                            Version 7.8         (R2023a)\n",
      "Signal Processing Toolbox                             Version 9.2         (R2023a)\n",
      "Statistics and Machine Learning Toolbox               Version 12.5        (R2023a)\n",
      "Text Analytics Toolbox                                Version 1.10        (R2023a)\n"
     ]
    }
   ],
   "source": [
    "ver"
   ]
  },
  {
   "cell_type": "code",
   "execution_count": 7,
   "id": "8b8530e6-8e89-44fb-9026-4c8535a4647a",
   "metadata": {
    "tags": []
   },
   "outputs": [
    {
     "name": "stdout",
     "output_type": "stream",
     "text": [
      "Wed Sep 20 03:50:34 2023       \n",
      "+---------------------------------------------------------------------------------------+\n",
      "| NVIDIA-SMI 535.104.05             Driver Version: 535.104.05   CUDA Version: 12.2     |\n",
      "|-----------------------------------------+----------------------+----------------------+\n",
      "| GPU  Name                 Persistence-M | Bus-Id        Disp.A | Volatile Uncorr. ECC |\n",
      "| Fan  Temp   Perf          Pwr:Usage/Cap |         Memory-Usage | GPU-Util  Compute M. |\n",
      "|                                         |                      |               MIG M. |\n",
      "|=========================================+======================+======================|\n",
      "|   0  Quadro P5000                   Off | 00000000:65:00.0 Off |                  Off |\n",
      "| 26%   39C    P8              12W / 180W |    108MiB / 16384MiB |      0%      Default |\n",
      "|                                         |                      |                  N/A |\n",
      "+-----------------------------------------+----------------------+----------------------+\n",
      "                                                                                         \n",
      "+---------------------------------------------------------------------------------------+\n",
      "| Processes:                                                                            |\n",
      "|  GPU   GI   CI        PID   Type   Process name                            GPU Memory |\n",
      "|        ID   ID                                                             Usage      |\n",
      "|=======================================================================================|\n",
      "+---------------------------------------------------------------------------------------+\n",
      "\n"
     ]
    }
   ],
   "source": [
    "!nvidia-smi"
   ]
  },
  {
   "cell_type": "code",
   "execution_count": 3,
   "id": "207c880c-e454-408a-be68-036b133ea231",
   "metadata": {
    "tags": []
   },
   "outputs": [
    {
     "name": "stdout",
     "output_type": "stream",
     "text": [
      "\n",
      "ans = \n",
      "\n",
      "  CUDADevice with properties:\n",
      "\n",
      "                      Name: 'Quadro P5000'\n",
      "                     Index: 1\n",
      "         ComputeCapability: '6.1'\n",
      "            SupportsDouble: 1\n",
      "     GraphicsDriverVersion: '535.104.05'\n",
      "               DriverModel: 'N/A'\n",
      "            ToolkitVersion: 11.8000\n",
      "        MaxThreadsPerBlock: 1024\n",
      "          MaxShmemPerBlock: 49152 (49.15 KB)\n",
      "        MaxThreadBlockSize: [1024 1024 64]\n",
      "               MaxGridSize: [2.1475e+09 65535 65535]\n",
      "                 SIMDWidth: 32\n",
      "               TotalMemory: 17054695424 (17.05 GB)\n",
      "           AvailableMemory: 16941318144 (16.94 GB)\n",
      "               CachePolicy: 'balanced'\n",
      "       MultiprocessorCount: 20\n",
      "              ClockRateKHz: 1733500\n",
      "               ComputeMode: 'Default'\n",
      "      GPUOverlapsTransfers: 1\n",
      "    KernelExecutionTimeout: 0\n",
      "          CanMapHostMemory: 1\n",
      "           DeviceSupported: 1\n",
      "           DeviceAvailable: 1\n",
      "            DeviceSelected: 1\n",
      "\n"
     ]
    }
   ],
   "source": [
    "gpuDevice()"
   ]
  },
  {
   "cell_type": "code",
   "execution_count": 6,
   "id": "ad223ecf-fe83-4987-892a-1a5a3e0d67ce",
   "metadata": {
    "tags": []
   },
   "outputs": [
    {
     "data": {
      "image/png": "[encoded data removed]",
      "text/plain": [
       "<IPython.core.display.Image object>"
      ]
     },
     "metadata": {},
     "output_type": "display_data"
    }
   ],
   "source": [
    "plot([1:10],[1:10].^2,'b.-');\n",
    "xlabel('X (mm)');\n",
    "ylabel('Y (mm)');\n",
    "title('Sample Plot')"
   ]
  },
  {
   "cell_type": "code",
   "execution_count": null,
   "id": "1907c950-ba21-45a0-a85f-d37fa8e29ff0",
   "metadata": {},
   "outputs": [],
   "source": []
  }
 ],
 "metadata": {
  "kernelspec": {
   "display_name": "MATLAB-R2023a",
   "language": "MATLAB",
   "name": "8e77a53cd5205096"
  },
  "language_info": {
   "codemirror_mode": "octave",
   "file_extension": ".m",
   "help_links": [
    {
     "text": "MetaKernel Magics",
     "url": "https://metakernel.readthedocs.io/en/latest/source/README.html"
    }
   ],
   "mimetype": "text/x-octave",
   "name": "matlab",
   "version": "0.17.1"
  }
 },
 "nbformat": 4,
 "nbformat_minor": 5
}
