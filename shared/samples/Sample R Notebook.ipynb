{
 "cells": [
  {
   "cell_type": "markdown",
   "id": "00fa59a8-c699-40a7-a32c-192cb69c7247",
   "metadata": {},
   "source": [
    "# Sample R Notebook\n",
    "\n",
    "A brief example R notebook."
   ]
  },
  {
   "cell_type": "code",
   "execution_count": null,
   "id": "67c37790-9b34-4113-80f5-f1dc62d6c8ed",
   "metadata": {},
   "outputs": [],
   "source": [
    "x <- 1:10\n",
    "y <- x^2\n",
    "plot(x, y, main = \"Test Plot\")"
   ]
  },
  {
   "cell_type": "code",
   "execution_count": null,
   "id": "78b8e6d7-8fd3-414f-8847-b1d857b6312b",
   "metadata": {},
   "outputs": [],
   "source": []
  }
 ],
 "metadata": {
  "kernelspec": {
   "display_name": "R Kernel",
   "language": "R",
   "name": "r-kernel-latest"
  },
  "language_info": {
   "codemirror_mode": "r",
   "file_extension": ".r",
   "mimetype": "text/x-r-source",
   "name": "R",
   "pygments_lexer": "r",
   "version": "4.3.1"
  }
 },
 "nbformat": 4,
 "nbformat_minor": 5
}
