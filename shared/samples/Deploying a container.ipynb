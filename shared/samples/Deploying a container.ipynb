{
 "cells": [
  {
   "cell_type": "markdown",
   "id": "deee80a6-58b6-42f8-b99a-45f11104f6ab",
   "metadata": {},
   "source": [
    "# Deploying a project as stand-alone container\n",
    "\n",
    "Let's say you have a notebook you want to deploy as a container you can publish to be runnable by any user. Here's an example of how to do that.\n",
    "\n",
    "We'll start from the kernel image `tensorflow-2.13-gpu:latest` we created. This image will need to contain all the necessary code and data to run the notebook. We will copy that into the image, and also create an appropriate user to run the container as.\n",
    "\n",
    "### Dockerfile"
   ]
  },
  {
   "cell_type": "code",
   "execution_count": null,
   "id": "b854e285-2f48-4494-bdd8-e4fd4b9639c7",
   "metadata": {
    "tags": []
   },
   "outputs": [],
   "source": [
    "%%file deploy.dockerfile\n",
    "\n",
    "# Start from a base kernel image we've already created\n",
    "FROM tensorflow-2.13-gpu:latest\n",
    "\n",
    "# Ensure jupyter notebook is installed\n",
    "RUN pip install notebook\n",
    "\n",
    "# Create a home directory as a volume to allow writes\n",
    "VOLUME /home\n",
    "\n",
    "# Create a user to run as\n",
    "RUN useradd -m user\n",
    "USER user\n",
    "WORKDIR /home/user\n",
    "\n",
    "# Copy project files into the home directory\n",
    "ARG src=\"/home/admin/shared/samples/Sample Tensorflow Notebook.ipynb\"\n",
    "COPY ${src} /home/user/\n",
    "\n",
    "# Expose the port\n",
    "EXPOSE 8888\n",
    "\n",
    "# Run the command, bind to all IP's\n",
    "CMD jupyter notebook --ip=0.0.0.0 --port=8888"
   ]
  },
  {
   "cell_type": "markdown",
   "id": "fba6f777-739f-4c1f-88c0-f4f86a3a36ee",
   "metadata": {},
   "source": [
    "### Build the dockerfile"
   ]
  },
  {
   "cell_type": "code",
   "execution_count": null,
   "id": "7566499d-8882-4b0a-b586-5b9ed32dcf18",
   "metadata": {
    "tags": []
   },
   "outputs": [],
   "source": [
    "!docker build --tag sample-deploy:latest -f ./deploy.dockerfile /"
   ]
  },
  {
   "cell_type": "markdown",
   "id": "0edb6c5c-d1e0-444d-8c6f-780a3dcd4be5",
   "metadata": {},
   "source": [
    "### Run the dockerfile\n",
    "\n",
    "Note that this deployment is not secured by SSL, so some browsers (particularly Chrome) may prevent browsing to the page."
   ]
  },
  {
   "cell_type": "code",
   "execution_count": null,
   "id": "4c8e0995-f3fe-4ee9-8cde-40504632a090",
   "metadata": {
    "tags": []
   },
   "outputs": [],
   "source": [
    "!docker run -it --network=host sample-deploy:latest "
   ]
  }
 ],
 "metadata": {
  "kernelspec": {
   "display_name": "Python 3 (ipykernel)",
   "language": "python",
   "name": "python3"
  },
  "language_info": {
   "codemirror_mode": {
    "name": "ipython",
    "version": 3
   },
   "file_extension": ".py",
   "mimetype": "text/x-python",
   "name": "python",
   "nbconvert_exporter": "python",
   "pygments_lexer": "ipython3",
   "version": "3.10.13"
  }
 },
 "nbformat": 4,
 "nbformat_minor": 5
}
