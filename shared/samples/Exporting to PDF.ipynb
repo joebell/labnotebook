{
 "cells": [
  {
   "cell_type": "markdown",
   "id": "d2673d49-8561-4a47-8e6e-fa23aa1b9261",
   "metadata": {
    "tags": []
   },
   "source": [
    "# Exporting to PDF\n",
    "\n",
    "An example of how to export a notebook to a PDF. The `exclude_input` option will prevent code in the notebook from being output in the PDF. This notebook requires `jupyter nbconvert`, which is available in the base Python3 kernel."
   ]
  },
  {
   "cell_type": "code",
   "execution_count": null,
   "id": "450809bd-20e9-431d-8e19-7ec7dd8a2749",
   "metadata": {
    "tags": []
   },
   "outputs": [],
   "source": [
    "!jupyter nbconvert --to pdf --TemplateExporter.exclude_input=True  'Sample MATLAB Notebook.ipynb'"
   ]
  },
  {
   "cell_type": "code",
   "execution_count": null,
   "id": "f8193c51-89cf-4648-a1e4-c372c61a6094",
   "metadata": {},
   "outputs": [],
   "source": []
  }
 ],
 "metadata": {
  "kernelspec": {
   "display_name": "Python 3 (ipykernel)",
   "language": "python",
   "name": "python3"
  },
  "language_info": {
   "codemirror_mode": {
    "name": "ipython",
    "version": 3
   },
   "file_extension": ".py",
   "mimetype": "text/x-python",
   "name": "python",
   "nbconvert_exporter": "python",
   "pygments_lexer": "ipython3",
   "version": "3.10.13"
  }
 },
 "nbformat": 4,
 "nbformat_minor": 5
}
