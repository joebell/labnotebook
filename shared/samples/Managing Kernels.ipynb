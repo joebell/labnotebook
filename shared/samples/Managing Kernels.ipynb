{
 "cells": [
  {
   "cell_type": "markdown",
   "id": "23ef80cb-1ab1-4c50-a379-40c574aa77a1",
   "metadata": {
    "tags": []
   },
   "source": [
    "# Managing Kernels, Images, and Containers\n",
    "\n",
    "Some basic recipes for managing kernels, images, and containers"
   ]
  },
  {
   "cell_type": "markdown",
   "id": "090b35de-be26-4bdf-8116-1756961f2000",
   "metadata": {},
   "source": [
    "### How can I control what containers are running?\n",
    "\n",
    "List running containers with:"
   ]
  },
  {
   "cell_type": "code",
   "execution_count": 32,
   "id": "a4f6c9da-3cf1-4e70-b40b-ca225df6e8ca",
   "metadata": {
    "tags": []
   },
   "outputs": [
    {
     "name": "stdout",
     "output_type": "stream",
     "text": [
      "CONTAINER ID   IMAGE                COMMAND                  CREATED          STATUS          PORTS     NAMES\n",
      "481a79a95b48   matlab:latest        \"/bin/sh -c 'python …\"   19 seconds ago   Up 18 seconds             musing_albattani\n",
      "a37fe377eeb5   matlab:latest        \"/bin/sh -c 'python …\"   4 minutes ago    Up 4 minutes              mystifying_newton\n",
      "24045bdfab43   labnotebook:latest   \"/build/startserver.…\"   13 hours ago     Up 13 hours               labnotebook\n"
     ]
    }
   ],
   "source": [
    "!docker ps"
   ]
  },
  {
   "cell_type": "markdown",
   "id": "cafc2a4a-d7c2-4641-81dd-e7f6c8d550eb",
   "metadata": {},
   "source": [
    "... or list all containers (running and stopped) with:"
   ]
  },
  {
   "cell_type": "code",
   "execution_count": 33,
   "id": "4af1a8fe-db64-40d2-93c5-7573fd2ac4c0",
   "metadata": {
    "tags": []
   },
   "outputs": [
    {
     "name": "stdout",
     "output_type": "stream",
     "text": [
      "CONTAINER ID   IMAGE                COMMAND                  CREATED          STATUS          PORTS     NAMES\n",
      "481a79a95b48   matlab:latest        \"/bin/sh -c 'python …\"   25 seconds ago   Up 24 seconds             musing_albattani\n",
      "a37fe377eeb5   matlab:latest        \"/bin/sh -c 'python …\"   4 minutes ago    Up 4 minutes              mystifying_newton\n",
      "24045bdfab43   labnotebook:latest   \"/build/startserver.…\"   13 hours ago     Up 13 hours               labnotebook\n"
     ]
    }
   ],
   "source": [
    "!docker ps -a"
   ]
  },
  {
   "cell_type": "markdown",
   "id": "7ab4236f-2d26-4f87-86ad-88b16bca4690",
   "metadata": {},
   "source": [
    "You can remove any non-`labnotebook` containers with the following command. Note that this will remove any kernel containers or other running containers on the system. (Kernel containers are ephemeral, and will restart automatically.)"
   ]
  },
  {
   "cell_type": "code",
   "execution_count": 34,
   "id": "9518b79a-0568-4ccb-90d6-c39271036a10",
   "metadata": {
    "tags": []
   },
   "outputs": [
    {
     "name": "stdout",
     "output_type": "stream",
     "text": [
      "481a79a95b48\n",
      "a37fe377eeb5\n"
     ]
    }
   ],
   "source": [
    "!docker ps -a --format '{{.ID}} {{.Image}}' | grep -v 'labnotebook' | awk '{print $1}' | xargs -I {} docker rm -f {}"
   ]
  },
  {
   "cell_type": "markdown",
   "id": "fde4e1a6-1552-49ac-9a62-74ba6e39cf48",
   "metadata": {},
   "source": [
    "### How can I control what images are stored by Docker?\n",
    "\n",
    "Containers will stop automatically once the corresponding kernel is stopped. You can list images with:"
   ]
  },
  {
   "cell_type": "code",
   "execution_count": 35,
   "id": "74e5a575-221c-40ab-9d97-cc89f48bb3f2",
   "metadata": {
    "tags": []
   },
   "outputs": [
    {
     "name": "stdout",
     "output_type": "stream",
     "text": [
      "REPOSITORY            TAG       IMAGE ID       CREATED        SIZE\n",
      "scipy-notebook        latest    d03e1525b8af   13 hours ago   4.19GB\n",
      "labnotebook           latest    03f7532fdf4d   13 hours ago   4.01GB\n",
      "r-kernel              latest    d70e23314336   14 hours ago   2.83GB\n",
      "tensorflow-2.13-gpu   latest    fd2816d45419   24 hours ago   6.67GB\n",
      "matlab                latest    5646975c5629   37 hours ago   15GB\n",
      "anaconda              latest    3aadca4f646b   40 hours ago   4.96GB\n",
      "jupyter/r-notebook    latest    d7337e5b2d0b   2 days ago     2.83GB\n"
     ]
    }
   ],
   "source": [
    "!docker images"
   ]
  },
  {
   "cell_type": "markdown",
   "id": "f46d1eb2-3f83-4ef6-a632-6e932246c505",
   "metadata": {
    "tags": []
   },
   "source": [
    "This conveniently shows any images that are already built and ready to be installed as a kernel.\n",
    "\n",
    "Images can be removed with:\n",
    "\n",
    "```\n",
    "!docker rmi [image-name]\n",
    "```\n",
    "\n",
    "Or unused images (that were superseeded by new versions of containers with the same tag) can be removed with:\n",
    "\n",
    "```\n",
    "!docker image prune --force\n",
    "```\n",
    "\n",
    "Each user can show their available installed kernels with:"
   ]
  },
  {
   "cell_type": "code",
   "execution_count": null,
   "id": "2284e73f-f096-4fa1-a80d-dacc046c1b9e",
   "metadata": {
    "tags": []
   },
   "outputs": [],
   "source": []
  },
  {
   "cell_type": "markdown",
   "id": "e727f2bc-1732-4b1c-b6e8-93e3ef971ac3",
   "metadata": {},
   "source": [
    "### How can I control what kernels are available?\n",
    "\n",
    "List kernels installed by the current user with:"
   ]
  },
  {
   "cell_type": "code",
   "execution_count": 36,
   "id": "13786819-3513-4551-8889-256f6d6efd4b",
   "metadata": {
    "tags": []
   },
   "outputs": [
    {
     "name": "stdout",
     "output_type": "stream",
     "text": [
      "Available kernels:\n",
      "  matlab-latest            /home/admin/.local/share/jupyter/kernels/matlab-latest\n",
      "  r-kernel-latest          /home/admin/.local/share/jupyter/kernels/r-kernel-latest\n",
      "  scipy-notebook-latest    /home/admin/.local/share/jupyter/kernels/scipy-notebook-latest\n",
      "  python3                  /opt/conda/envs/jupyterenv/share/jupyter/kernels/python3\n"
     ]
    }
   ],
   "source": [
    "!jupyter kernelspec list"
   ]
  },
  {
   "cell_type": "markdown",
   "id": "20f90953-308b-435f-99b8-53ac78e2a8e2",
   "metadata": {},
   "source": [
    "Users can remove a kernel by using:\n",
    "\n",
    "```\n",
    "!jupyter kernelspec remove [kernel-name]\n",
    "```"
   ]
  },
  {
   "cell_type": "code",
   "execution_count": null,
   "id": "6b2500fc-9047-4b25-9d02-7882a74958c6",
   "metadata": {},
   "outputs": [],
   "source": []
  }
 ],
 "metadata": {
  "kernelspec": {
   "display_name": "Python 3 (ipykernel)",
   "language": "python",
   "name": "python3"
  },
  "language_info": {
   "codemirror_mode": {
    "name": "ipython",
    "version": 3
   },
   "file_extension": ".py",
   "mimetype": "text/x-python",
   "name": "python",
   "nbconvert_exporter": "python",
   "pygments_lexer": "ipython3",
   "version": "3.10.13"
  }
 },
 "nbformat": 4,
 "nbformat_minor": 5
}
